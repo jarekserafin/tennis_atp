{
 "cells": [
  {
   "cell_type": "markdown",
   "id": "60e879fa",
   "metadata": {},
   "source": [
    "# 1. Przegląd, analiza oraz wyczyszczenie/uzupełnienie danych. "
   ]
  },
  {
   "metadata": {
    "ExecuteTime": {
     "end_time": "2024-07-01T17:36:41.169285Z",
     "start_time": "2024-07-01T17:36:41.157315Z"
    }
   },
   "cell_type": "code",
   "source": [
    "import os\n",
    "import pandas as pd\n",
    "import numpy as np\n",
    "import seaborn as sns\n",
    "import matplotlib.pyplot as plt"
   ],
   "id": "461e2e8ab451109c",
   "outputs": [],
   "execution_count": 3
  },
  {
   "metadata": {},
   "cell_type": "markdown",
   "source": "",
   "id": "28ceeab7d6177549"
  },
  {
   "cell_type": "code",
   "id": "5f156c0c",
   "metadata": {
    "ExecuteTime": {
     "end_time": "2024-07-01T17:38:25.489380Z",
     "start_time": "2024-07-01T17:38:25.381630Z"
    }
   },
   "source": [
    "data_path = [os.getcwd()]\n",
    "player_data = pd.read_csv(os.sep.join(data_path + ['tennis_atp/data/atp_players.csv']))\n",
    "atp_rank = pd.read_csv(os.sep.join(data_path + ['tennis_atp/data/atp_rankings_current.csv']))\n",
    "match_data_2003 = pd.read_csv(os.sep.join(data_path + ['tennis_atp/data/atp_matches_2003.csv']))\n",
    "match_data_2023 = pd.read_csv(os.sep.join(data_path + ['tennis_atp/data/atp_matches_2023.csv']))"
   ],
   "outputs": [],
   "execution_count": 7
  },
  {
   "metadata": {},
   "cell_type": "markdown",
   "source": "### Przegląd danych ",
   "id": "dd790edc4d4cf41f"
  },
  {
   "cell_type": "code",
   "id": "63a9949d",
   "metadata": {
    "scrolled": true,
    "ExecuteTime": {
     "end_time": "2024-07-01T17:38:28.030416Z",
     "start_time": "2024-07-01T17:38:28.018475Z"
    }
   },
   "source": [
    "player_data.head()"
   ],
   "outputs": [
    {
     "data": {
      "text/plain": [
       "   player_id name_first name_last hand         dob  ioc  height wikidata_id\n",
       "0     100001    Gardnar    Mulloy    R  19131122.0  USA   185.0      Q54544\n",
       "1     100002     Pancho    Segura    R  19210620.0  ECU   168.0      Q54581\n",
       "2     100003      Frank   Sedgman    R  19271002.0  AUS   180.0     Q962049\n",
       "3     100004   Giuseppe     Merlo    R  19271011.0  ITA     NaN    Q1258752\n",
       "4     100005    Richard  Gonzalez    R  19280509.0  USA   188.0      Q53554"
      ],
      "text/html": [
       "<div>\n",
       "<style scoped>\n",
       "    .dataframe tbody tr th:only-of-type {\n",
       "        vertical-align: middle;\n",
       "    }\n",
       "\n",
       "    .dataframe tbody tr th {\n",
       "        vertical-align: top;\n",
       "    }\n",
       "\n",
       "    .dataframe thead th {\n",
       "        text-align: right;\n",
       "    }\n",
       "</style>\n",
       "<table border=\"1\" class=\"dataframe\">\n",
       "  <thead>\n",
       "    <tr style=\"text-align: right;\">\n",
       "      <th></th>\n",
       "      <th>player_id</th>\n",
       "      <th>name_first</th>\n",
       "      <th>name_last</th>\n",
       "      <th>hand</th>\n",
       "      <th>dob</th>\n",
       "      <th>ioc</th>\n",
       "      <th>height</th>\n",
       "      <th>wikidata_id</th>\n",
       "    </tr>\n",
       "  </thead>\n",
       "  <tbody>\n",
       "    <tr>\n",
       "      <th>0</th>\n",
       "      <td>100001</td>\n",
       "      <td>Gardnar</td>\n",
       "      <td>Mulloy</td>\n",
       "      <td>R</td>\n",
       "      <td>19131122.0</td>\n",
       "      <td>USA</td>\n",
       "      <td>185.0</td>\n",
       "      <td>Q54544</td>\n",
       "    </tr>\n",
       "    <tr>\n",
       "      <th>1</th>\n",
       "      <td>100002</td>\n",
       "      <td>Pancho</td>\n",
       "      <td>Segura</td>\n",
       "      <td>R</td>\n",
       "      <td>19210620.0</td>\n",
       "      <td>ECU</td>\n",
       "      <td>168.0</td>\n",
       "      <td>Q54581</td>\n",
       "    </tr>\n",
       "    <tr>\n",
       "      <th>2</th>\n",
       "      <td>100003</td>\n",
       "      <td>Frank</td>\n",
       "      <td>Sedgman</td>\n",
       "      <td>R</td>\n",
       "      <td>19271002.0</td>\n",
       "      <td>AUS</td>\n",
       "      <td>180.0</td>\n",
       "      <td>Q962049</td>\n",
       "    </tr>\n",
       "    <tr>\n",
       "      <th>3</th>\n",
       "      <td>100004</td>\n",
       "      <td>Giuseppe</td>\n",
       "      <td>Merlo</td>\n",
       "      <td>R</td>\n",
       "      <td>19271011.0</td>\n",
       "      <td>ITA</td>\n",
       "      <td>NaN</td>\n",
       "      <td>Q1258752</td>\n",
       "    </tr>\n",
       "    <tr>\n",
       "      <th>4</th>\n",
       "      <td>100005</td>\n",
       "      <td>Richard</td>\n",
       "      <td>Gonzalez</td>\n",
       "      <td>R</td>\n",
       "      <td>19280509.0</td>\n",
       "      <td>USA</td>\n",
       "      <td>188.0</td>\n",
       "      <td>Q53554</td>\n",
       "    </tr>\n",
       "  </tbody>\n",
       "</table>\n",
       "</div>"
      ]
     },
     "execution_count": 9,
     "metadata": {},
     "output_type": "execute_result"
    }
   ],
   "execution_count": 9
  },
  {
   "cell_type": "code",
   "id": "cb203a7b",
   "metadata": {
    "scrolled": true,
    "ExecuteTime": {
     "end_time": "2024-07-01T17:38:28.888107Z",
     "start_time": "2024-07-01T17:38:28.882308Z"
    }
   },
   "source": [
    "atp_rank.head()"
   ],
   "outputs": [
    {
     "data": {
      "text/plain": [
       "   ranking_date  rank  player  points\n",
       "0      20240101     1  104925   11245\n",
       "1      20240101     2  207989    8855\n",
       "2      20240101     3  106421    7600\n",
       "3      20240101     4  206173    6490\n",
       "4      20240101     5  126094    4805"
      ],
      "text/html": [
       "<div>\n",
       "<style scoped>\n",
       "    .dataframe tbody tr th:only-of-type {\n",
       "        vertical-align: middle;\n",
       "    }\n",
       "\n",
       "    .dataframe tbody tr th {\n",
       "        vertical-align: top;\n",
       "    }\n",
       "\n",
       "    .dataframe thead th {\n",
       "        text-align: right;\n",
       "    }\n",
       "</style>\n",
       "<table border=\"1\" class=\"dataframe\">\n",
       "  <thead>\n",
       "    <tr style=\"text-align: right;\">\n",
       "      <th></th>\n",
       "      <th>ranking_date</th>\n",
       "      <th>rank</th>\n",
       "      <th>player</th>\n",
       "      <th>points</th>\n",
       "    </tr>\n",
       "  </thead>\n",
       "  <tbody>\n",
       "    <tr>\n",
       "      <th>0</th>\n",
       "      <td>20240101</td>\n",
       "      <td>1</td>\n",
       "      <td>104925</td>\n",
       "      <td>11245</td>\n",
       "    </tr>\n",
       "    <tr>\n",
       "      <th>1</th>\n",
       "      <td>20240101</td>\n",
       "      <td>2</td>\n",
       "      <td>207989</td>\n",
       "      <td>8855</td>\n",
       "    </tr>\n",
       "    <tr>\n",
       "      <th>2</th>\n",
       "      <td>20240101</td>\n",
       "      <td>3</td>\n",
       "      <td>106421</td>\n",
       "      <td>7600</td>\n",
       "    </tr>\n",
       "    <tr>\n",
       "      <th>3</th>\n",
       "      <td>20240101</td>\n",
       "      <td>4</td>\n",
       "      <td>206173</td>\n",
       "      <td>6490</td>\n",
       "    </tr>\n",
       "    <tr>\n",
       "      <th>4</th>\n",
       "      <td>20240101</td>\n",
       "      <td>5</td>\n",
       "      <td>126094</td>\n",
       "      <td>4805</td>\n",
       "    </tr>\n",
       "  </tbody>\n",
       "</table>\n",
       "</div>"
      ]
     },
     "execution_count": 10,
     "metadata": {},
     "output_type": "execute_result"
    }
   ],
   "execution_count": 10
  },
  {
   "cell_type": "code",
   "id": "6646c9d1",
   "metadata": {
    "ExecuteTime": {
     "end_time": "2024-07-01T17:38:29.713322Z",
     "start_time": "2024-07-01T17:38:29.679337Z"
    }
   },
   "source": [
    "match_data.head()"
   ],
   "outputs": [
    {
     "ename": "NameError",
     "evalue": "name 'match_data' is not defined",
     "output_type": "error",
     "traceback": [
      "\u001B[0;31m---------------------------------------------------------------------------\u001B[0m",
      "\u001B[0;31mNameError\u001B[0m                                 Traceback (most recent call last)",
      "Cell \u001B[0;32mIn[11], line 1\u001B[0m\n\u001B[0;32m----> 1\u001B[0m match_data\u001B[38;5;241m.\u001B[39mhead()\n",
      "\u001B[0;31mNameError\u001B[0m: name 'match_data' is not defined"
     ]
    }
   ],
   "execution_count": 11
  },
  {
   "cell_type": "code",
   "id": "300fb506",
   "metadata": {
    "ExecuteTime": {
     "end_time": "2024-07-01T17:38:30.993656Z",
     "start_time": "2024-07-01T17:38:30.978174Z"
    }
   },
   "source": [
    "atp_players = pd.merge(atp_rank, player_data, left_on='player', right_on='player_id')"
   ],
   "outputs": [],
   "execution_count": 12
  },
  {
   "cell_type": "code",
   "id": "5b4f682b",
   "metadata": {
    "ExecuteTime": {
     "end_time": "2024-07-01T17:38:42.441451Z",
     "start_time": "2024-07-01T17:38:42.432272Z"
    }
   },
   "source": [
    "atp_players.head()"
   ],
   "outputs": [
    {
     "data": {
      "text/plain": [
       "   ranking_date  rank  player  points  player_id name_first name_last hand  \\\n",
       "0      20240101     1  104925   11245     104925      Novak  Djokovic    R   \n",
       "1      20240108     1  104925   11055     104925      Novak  Djokovic    R   \n",
       "2      20240115     1  104925   11055     104925      Novak  Djokovic    R   \n",
       "3      20240129     1  104925    9855     104925      Novak  Djokovic    R   \n",
       "4      20240205     1  104925    9855     104925      Novak  Djokovic    R   \n",
       "\n",
       "          dob  ioc  height wikidata_id  \n",
       "0  19870522.0  SRB   188.0       Q5812  \n",
       "1  19870522.0  SRB   188.0       Q5812  \n",
       "2  19870522.0  SRB   188.0       Q5812  \n",
       "3  19870522.0  SRB   188.0       Q5812  \n",
       "4  19870522.0  SRB   188.0       Q5812  "
      ],
      "text/html": [
       "<div>\n",
       "<style scoped>\n",
       "    .dataframe tbody tr th:only-of-type {\n",
       "        vertical-align: middle;\n",
       "    }\n",
       "\n",
       "    .dataframe tbody tr th {\n",
       "        vertical-align: top;\n",
       "    }\n",
       "\n",
       "    .dataframe thead th {\n",
       "        text-align: right;\n",
       "    }\n",
       "</style>\n",
       "<table border=\"1\" class=\"dataframe\">\n",
       "  <thead>\n",
       "    <tr style=\"text-align: right;\">\n",
       "      <th></th>\n",
       "      <th>ranking_date</th>\n",
       "      <th>rank</th>\n",
       "      <th>player</th>\n",
       "      <th>points</th>\n",
       "      <th>player_id</th>\n",
       "      <th>name_first</th>\n",
       "      <th>name_last</th>\n",
       "      <th>hand</th>\n",
       "      <th>dob</th>\n",
       "      <th>ioc</th>\n",
       "      <th>height</th>\n",
       "      <th>wikidata_id</th>\n",
       "    </tr>\n",
       "  </thead>\n",
       "  <tbody>\n",
       "    <tr>\n",
       "      <th>0</th>\n",
       "      <td>20240101</td>\n",
       "      <td>1</td>\n",
       "      <td>104925</td>\n",
       "      <td>11245</td>\n",
       "      <td>104925</td>\n",
       "      <td>Novak</td>\n",
       "      <td>Djokovic</td>\n",
       "      <td>R</td>\n",
       "      <td>19870522.0</td>\n",
       "      <td>SRB</td>\n",
       "      <td>188.0</td>\n",
       "      <td>Q5812</td>\n",
       "    </tr>\n",
       "    <tr>\n",
       "      <th>1</th>\n",
       "      <td>20240108</td>\n",
       "      <td>1</td>\n",
       "      <td>104925</td>\n",
       "      <td>11055</td>\n",
       "      <td>104925</td>\n",
       "      <td>Novak</td>\n",
       "      <td>Djokovic</td>\n",
       "      <td>R</td>\n",
       "      <td>19870522.0</td>\n",
       "      <td>SRB</td>\n",
       "      <td>188.0</td>\n",
       "      <td>Q5812</td>\n",
       "    </tr>\n",
       "    <tr>\n",
       "      <th>2</th>\n",
       "      <td>20240115</td>\n",
       "      <td>1</td>\n",
       "      <td>104925</td>\n",
       "      <td>11055</td>\n",
       "      <td>104925</td>\n",
       "      <td>Novak</td>\n",
       "      <td>Djokovic</td>\n",
       "      <td>R</td>\n",
       "      <td>19870522.0</td>\n",
       "      <td>SRB</td>\n",
       "      <td>188.0</td>\n",
       "      <td>Q5812</td>\n",
       "    </tr>\n",
       "    <tr>\n",
       "      <th>3</th>\n",
       "      <td>20240129</td>\n",
       "      <td>1</td>\n",
       "      <td>104925</td>\n",
       "      <td>9855</td>\n",
       "      <td>104925</td>\n",
       "      <td>Novak</td>\n",
       "      <td>Djokovic</td>\n",
       "      <td>R</td>\n",
       "      <td>19870522.0</td>\n",
       "      <td>SRB</td>\n",
       "      <td>188.0</td>\n",
       "      <td>Q5812</td>\n",
       "    </tr>\n",
       "    <tr>\n",
       "      <th>4</th>\n",
       "      <td>20240205</td>\n",
       "      <td>1</td>\n",
       "      <td>104925</td>\n",
       "      <td>9855</td>\n",
       "      <td>104925</td>\n",
       "      <td>Novak</td>\n",
       "      <td>Djokovic</td>\n",
       "      <td>R</td>\n",
       "      <td>19870522.0</td>\n",
       "      <td>SRB</td>\n",
       "      <td>188.0</td>\n",
       "      <td>Q5812</td>\n",
       "    </tr>\n",
       "  </tbody>\n",
       "</table>\n",
       "</div>"
      ]
     },
     "execution_count": 13,
     "metadata": {},
     "output_type": "execute_result"
    }
   ],
   "execution_count": 13
  },
  {
   "cell_type": "code",
   "id": "4fc2b996",
   "metadata": {
    "ExecuteTime": {
     "end_time": "2024-07-01T17:38:42.919714Z",
     "start_time": "2024-07-01T17:38:42.917680Z"
    }
   },
   "source": [
    "#Plik zawiera dane z rankingami dla różnych dat. W dalszej części zostanie wykorzystany najświeższy \n",
    "#(na ten moment) ranking"
   ],
   "outputs": [],
   "execution_count": 14
  },
  {
   "cell_type": "code",
   "id": "3d4298d4",
   "metadata": {
    "scrolled": true,
    "ExecuteTime": {
     "end_time": "2024-07-01T17:38:43.769483Z",
     "start_time": "2024-07-01T17:38:43.763666Z"
    }
   },
   "source": [
    "top_players = atp_players[atp_players['ranking_date'] == 20240527]\n",
    "top_players = top_players[top_players['rank'] < 151]\n",
    "top_players = top_players.sort_values('rank')"
   ],
   "outputs": [],
   "execution_count": 15
  },
  {
   "cell_type": "code",
   "id": "cf204dd1",
   "metadata": {
    "scrolled": true,
    "ExecuteTime": {
     "end_time": "2024-07-01T17:38:44.527694Z",
     "start_time": "2024-07-01T17:38:44.519071Z"
    }
   },
   "source": [
    "top_players.head()"
   ],
   "outputs": [
    {
     "data": {
      "text/plain": [
       "     ranking_date  rank  player  points  player_id name_first name_last hand  \\\n",
       "16       20240527     1  104925    9960     104925      Novak  Djokovic    R   \n",
       "67       20240527     2  206173    8770     206173     Jannik    Sinner    R   \n",
       "33       20240527     3  207989    7300     207989     Carlos   Alcaraz    R   \n",
       "118      20240527     4  100644    6305     100644  Alexander    Zverev    R   \n",
       "50       20240527     5  106421    6295     106421     Daniil  Medvedev    R   \n",
       "\n",
       "            dob  ioc  height wikidata_id  \n",
       "16   19870522.0  SRB   188.0       Q5812  \n",
       "67   20010816.0  ITA   188.0   Q54812588  \n",
       "33   20030505.0  ESP   185.0   Q85518537  \n",
       "118  19970420.0  GER   198.0   Q13990552  \n",
       "50   19960211.0  RUS   198.0   Q21622022  "
      ],
      "text/html": [
       "<div>\n",
       "<style scoped>\n",
       "    .dataframe tbody tr th:only-of-type {\n",
       "        vertical-align: middle;\n",
       "    }\n",
       "\n",
       "    .dataframe tbody tr th {\n",
       "        vertical-align: top;\n",
       "    }\n",
       "\n",
       "    .dataframe thead th {\n",
       "        text-align: right;\n",
       "    }\n",
       "</style>\n",
       "<table border=\"1\" class=\"dataframe\">\n",
       "  <thead>\n",
       "    <tr style=\"text-align: right;\">\n",
       "      <th></th>\n",
       "      <th>ranking_date</th>\n",
       "      <th>rank</th>\n",
       "      <th>player</th>\n",
       "      <th>points</th>\n",
       "      <th>player_id</th>\n",
       "      <th>name_first</th>\n",
       "      <th>name_last</th>\n",
       "      <th>hand</th>\n",
       "      <th>dob</th>\n",
       "      <th>ioc</th>\n",
       "      <th>height</th>\n",
       "      <th>wikidata_id</th>\n",
       "    </tr>\n",
       "  </thead>\n",
       "  <tbody>\n",
       "    <tr>\n",
       "      <th>16</th>\n",
       "      <td>20240527</td>\n",
       "      <td>1</td>\n",
       "      <td>104925</td>\n",
       "      <td>9960</td>\n",
       "      <td>104925</td>\n",
       "      <td>Novak</td>\n",
       "      <td>Djokovic</td>\n",
       "      <td>R</td>\n",
       "      <td>19870522.0</td>\n",
       "      <td>SRB</td>\n",
       "      <td>188.0</td>\n",
       "      <td>Q5812</td>\n",
       "    </tr>\n",
       "    <tr>\n",
       "      <th>67</th>\n",
       "      <td>20240527</td>\n",
       "      <td>2</td>\n",
       "      <td>206173</td>\n",
       "      <td>8770</td>\n",
       "      <td>206173</td>\n",
       "      <td>Jannik</td>\n",
       "      <td>Sinner</td>\n",
       "      <td>R</td>\n",
       "      <td>20010816.0</td>\n",
       "      <td>ITA</td>\n",
       "      <td>188.0</td>\n",
       "      <td>Q54812588</td>\n",
       "    </tr>\n",
       "    <tr>\n",
       "      <th>33</th>\n",
       "      <td>20240527</td>\n",
       "      <td>3</td>\n",
       "      <td>207989</td>\n",
       "      <td>7300</td>\n",
       "      <td>207989</td>\n",
       "      <td>Carlos</td>\n",
       "      <td>Alcaraz</td>\n",
       "      <td>R</td>\n",
       "      <td>20030505.0</td>\n",
       "      <td>ESP</td>\n",
       "      <td>185.0</td>\n",
       "      <td>Q85518537</td>\n",
       "    </tr>\n",
       "    <tr>\n",
       "      <th>118</th>\n",
       "      <td>20240527</td>\n",
       "      <td>4</td>\n",
       "      <td>100644</td>\n",
       "      <td>6305</td>\n",
       "      <td>100644</td>\n",
       "      <td>Alexander</td>\n",
       "      <td>Zverev</td>\n",
       "      <td>R</td>\n",
       "      <td>19970420.0</td>\n",
       "      <td>GER</td>\n",
       "      <td>198.0</td>\n",
       "      <td>Q13990552</td>\n",
       "    </tr>\n",
       "    <tr>\n",
       "      <th>50</th>\n",
       "      <td>20240527</td>\n",
       "      <td>5</td>\n",
       "      <td>106421</td>\n",
       "      <td>6295</td>\n",
       "      <td>106421</td>\n",
       "      <td>Daniil</td>\n",
       "      <td>Medvedev</td>\n",
       "      <td>R</td>\n",
       "      <td>19960211.0</td>\n",
       "      <td>RUS</td>\n",
       "      <td>198.0</td>\n",
       "      <td>Q21622022</td>\n",
       "    </tr>\n",
       "  </tbody>\n",
       "</table>\n",
       "</div>"
      ]
     },
     "execution_count": 16,
     "metadata": {},
     "output_type": "execute_result"
    }
   ],
   "execution_count": 16
  },
  {
   "cell_type": "code",
   "id": "dbfc6ae2",
   "metadata": {
    "ExecuteTime": {
     "end_time": "2024-07-01T17:38:45.246794Z",
     "start_time": "2024-07-01T17:38:45.242591Z"
    }
   },
   "source": [
    "top_players.isnull().sum()"
   ],
   "outputs": [
    {
     "data": {
      "text/plain": [
       "ranking_date     0\n",
       "rank             0\n",
       "player           0\n",
       "points           0\n",
       "player_id        0\n",
       "name_first       0\n",
       "name_last        0\n",
       "hand             0\n",
       "dob              0\n",
       "ioc              0\n",
       "height          23\n",
       "wikidata_id     17\n",
       "dtype: int64"
      ]
     },
     "execution_count": 17,
     "metadata": {},
     "output_type": "execute_result"
    }
   ],
   "execution_count": 17
  },
  {
   "cell_type": "code",
   "id": "1f3692d8",
   "metadata": {
    "ExecuteTime": {
     "end_time": "2024-07-01T17:38:46.211530Z",
     "start_time": "2024-07-01T17:38:46.063561Z"
    }
   },
   "source": [
    "U_values = top_players['hand'] == 'U'\n",
    "U_values_numeric = U_values.astype(int)\n",
    "U_values_matrix = U_values_numeric.values.reshape(-1, 1)\n",
    "U_values_df = pd.DataFrame(U_values_matrix, columns=['hand'])\n",
    "plt.figure(figsize=(8, 4))\n",
    "sns.heatmap(U_values_df, cbar=False)\n",
    "plt.show()"
   ],
   "outputs": [
    {
     "data": {
      "text/plain": [
       "<Figure size 800x400 with 1 Axes>"
      ],
      "image/png": "[encoded data removed]"
     },
     "metadata": {},
     "output_type": "display_data"
    }
   ],
   "execution_count": 18
  },
  {
   "cell_type": "code",
   "id": "24a36393",
   "metadata": {
    "scrolled": true,
    "ExecuteTime": {
     "end_time": "2024-07-01T17:38:47.267918Z",
     "start_time": "2024-07-01T17:38:47.256441Z"
    }
   },
   "source": [
    "U_values = top_players[top_players['hand'] == 'U']\n",
    "selected_columns = ['rank', 'player', 'hand', 'name_first', 'name_last']\n",
    "print(U_values.loc[:, ['name_first', 'name_last', 'hand']])"
   ],
   "outputs": [
    {
     "name": "stdout",
     "output_type": "stream",
     "text": [
      "        name_first   name_last hand\n",
      "1648          Alex   Michelsen    U\n",
      "2838         Jakub      Mensik    U\n",
      "1206         Rinky    Hijikata    U\n",
      "1869    Aleksandar   Kovacevic    U\n",
      "2991          Adam      Walton    U\n",
      "4759      Valentin    Vacherot    U\n",
      "3127  Roman Andres  Burruchaga    U\n"
     ]
    }
   ],
   "execution_count": 19
  },
  {
   "cell_type": "code",
   "id": "f7295da1",
   "metadata": {
    "ExecuteTime": {
     "end_time": "2024-07-01T17:38:47.993553Z",
     "start_time": "2024-07-01T17:38:47.988063Z"
    }
   },
   "source": [
    "# Uzupełnienie brakujących wartości hand rzeczywistymi wartościami\n",
    "top_players.loc[1648, 'hand'] = 'R'\n",
    "top_players.loc[2838, 'hand'] = 'R'\n",
    "top_players.loc[1206, 'hand'] = 'R'\n",
    "top_players.loc[1869, 'hand'] = 'R'\n",
    "top_players.loc[2991, 'hand'] = 'R'\n",
    "top_players.loc[4759, 'hand'] = 'R'\n",
    "top_players.loc[3127, 'hand'] = 'R'"
   ],
   "outputs": [],
   "execution_count": 20
  },
  {
   "cell_type": "code",
   "id": "f8445d93",
   "metadata": {
    "ExecuteTime": {
     "end_time": "2024-07-01T17:38:48.661562Z",
     "start_time": "2024-07-01T17:38:48.576096Z"
    }
   },
   "source": [
    "plt.figure(figsize=(8, 4))\n",
    "sns.countplot(x = 'hand', data = top_players)"
   ],
   "outputs": [
    {
     "data": {
      "text/plain": [
       "<Axes: xlabel='hand', ylabel='count'>"
      ]
     },
     "execution_count": 21,
     "metadata": {},
     "output_type": "execute_result"
    },
    {
     "data": {
      "text/plain": [
       "<Figure size 800x400 with 1 Axes>"
      ],
      "image/png": "[encoded data removed]"
     },
     "metadata": {},
     "output_type": "display_data"
    }
   ],
   "execution_count": 21
  },
  {
   "cell_type": "code",
   "id": "10210515",
   "metadata": {
    "ExecuteTime": {
     "end_time": "2024-07-01T17:38:49.880815Z",
     "start_time": "2024-07-01T17:38:49.875799Z"
    }
   },
   "source": [
    "counts = top_players['hand'].value_counts(normalize=True) * 100\n",
    "print(counts)"
   ],
   "outputs": [
    {
     "name": "stdout",
     "output_type": "stream",
     "text": [
      "hand\n",
      "R    84.666667\n",
      "L    15.333333\n",
      "Name: proportion, dtype: float64\n"
     ]
    }
   ],
   "execution_count": 22
  },
  {
   "cell_type": "code",
   "id": "d506e4c3",
   "metadata": {
    "ExecuteTime": {
     "end_time": "2024-07-01T17:38:50.586103Z",
     "start_time": "2024-07-01T17:38:50.577279Z"
    }
   },
   "source": [
    "match_data_2003.isnull().sum()"
   ],
   "outputs": [
    {
     "data": {
      "text/plain": [
       "tourney_id               0\n",
       "tourney_name             0\n",
       "surface                  0\n",
       "draw_size                0\n",
       "tourney_level            0\n",
       "tourney_date             0\n",
       "match_num                0\n",
       "winner_id                0\n",
       "winner_seed           1977\n",
       "winner_entry          2864\n",
       "winner_name              0\n",
       "winner_hand              0\n",
       "winner_ht              109\n",
       "winner_ioc               0\n",
       "winner_age               0\n",
       "loser_id                 0\n",
       "loser_seed            2518\n",
       "loser_entry           2582\n",
       "loser_name               0\n",
       "loser_hand               0\n",
       "loser_ht               180\n",
       "loser_ioc                0\n",
       "loser_age                0\n",
       "score                    0\n",
       "best_of                  0\n",
       "round                    0\n",
       "minutes                412\n",
       "w_ace                  409\n",
       "w_df                   409\n",
       "w_svpt                 409\n",
       "w_1stIn                409\n",
       "w_1stWon               409\n",
       "w_2ndWon               409\n",
       "w_SvGms                409\n",
       "w_bpSaved              409\n",
       "w_bpFaced              409\n",
       "l_ace                  409\n",
       "l_df                   409\n",
       "l_svpt                 409\n",
       "l_1stIn                409\n",
       "l_1stWon               409\n",
       "l_2ndWon               409\n",
       "l_SvGms                409\n",
       "l_bpSaved              409\n",
       "l_bpFaced              409\n",
       "winner_rank             44\n",
       "winner_rank_points      44\n",
       "loser_rank              90\n",
       "loser_rank_points       90\n",
       "dtype: int64"
      ]
     },
     "execution_count": 23,
     "metadata": {},
     "output_type": "execute_result"
    }
   ],
   "execution_count": 23
  },
  {
   "cell_type": "code",
   "id": "d7d74e37",
   "metadata": {
    "ExecuteTime": {
     "end_time": "2024-07-01T17:38:51.225885Z",
     "start_time": "2024-07-01T17:38:51.219885Z"
    }
   },
   "source": [
    "match_data_2023.isnull().sum()"
   ],
   "outputs": [
    {
     "data": {
      "text/plain": [
       "tourney_id               0\n",
       "tourney_name             0\n",
       "surface                 53\n",
       "draw_size                0\n",
       "tourney_level            0\n",
       "tourney_date             0\n",
       "match_num                0\n",
       "winner_id                0\n",
       "winner_seed           1736\n",
       "winner_entry          2513\n",
       "winner_name              0\n",
       "winner_hand              0\n",
       "winner_ht              204\n",
       "winner_ioc               0\n",
       "winner_age               1\n",
       "loser_id                 0\n",
       "loser_seed            2217\n",
       "loser_entry           2291\n",
       "loser_name               0\n",
       "loser_hand               0\n",
       "loser_ht               336\n",
       "loser_ioc                0\n",
       "loser_age                7\n",
       "score                    0\n",
       "best_of                  0\n",
       "round                    0\n",
       "minutes                232\n",
       "w_ace                  171\n",
       "w_df                   171\n",
       "w_svpt                 171\n",
       "w_1stIn                171\n",
       "w_1stWon               171\n",
       "w_2ndWon               171\n",
       "w_SvGms                171\n",
       "w_bpSaved              171\n",
       "w_bpFaced              171\n",
       "l_ace                  171\n",
       "l_df                   171\n",
       "l_svpt                 171\n",
       "l_1stIn                171\n",
       "l_1stWon               171\n",
       "l_2ndWon               171\n",
       "l_SvGms                171\n",
       "l_bpSaved              171\n",
       "l_bpFaced              171\n",
       "winner_rank             22\n",
       "winner_rank_points      22\n",
       "loser_rank              31\n",
       "loser_rank_points       31\n",
       "dtype: int64"
      ]
     },
     "execution_count": 24,
     "metadata": {},
     "output_type": "execute_result"
    }
   ],
   "execution_count": 24
  },
  {
   "cell_type": "code",
   "id": "bd06b26e",
   "metadata": {
    "ExecuteTime": {
     "end_time": "2024-07-01T17:38:51.901713Z",
     "start_time": "2024-07-01T17:38:51.891475Z"
    }
   },
   "source": [
    "match_data_2003.head()"
   ],
   "outputs": [
    {
     "data": {
      "text/plain": [
       "  tourney_id    tourney_name surface  draw_size tourney_level  tourney_date  \\\n",
       "0  2003-1536  Madrid Masters    Hard         48             M      20031013   \n",
       "1  2003-1536  Madrid Masters    Hard         48             M      20031013   \n",
       "2  2003-1536  Madrid Masters    Hard         48             M      20031013   \n",
       "3  2003-1536  Madrid Masters    Hard         48             M      20031013   \n",
       "4  2003-1536  Madrid Masters    Hard         48             M      20031013   \n",
       "\n",
       "   match_num  winner_id  winner_seed winner_entry  ... l_1stIn l_1stWon  \\\n",
       "0          1     101965          NaN          NaN  ...     NaN      NaN   \n",
       "1          2     102358          NaN            Q  ...     NaN      NaN   \n",
       "2          3     102998          NaN            Q  ...     NaN      NaN   \n",
       "3          4     102610          NaN          NaN  ...     NaN      NaN   \n",
       "4          5     102374          NaN           WC  ...     NaN      NaN   \n",
       "\n",
       "   l_2ndWon l_SvGms  l_bpSaved  l_bpFaced  winner_rank winner_rank_points  \\\n",
       "0       NaN     NaN        NaN        NaN         28.0             1090.0   \n",
       "1       NaN     NaN        NaN        NaN        146.0              258.0   \n",
       "2       NaN     NaN        NaN        NaN         57.0              660.0   \n",
       "3       NaN     NaN        NaN        NaN         23.0             1170.0   \n",
       "4       NaN     NaN        NaN        NaN        127.0              290.0   \n",
       "\n",
       "  loser_rank loser_rank_points  \n",
       "0       42.0             865.0  \n",
       "1       40.0             950.0  \n",
       "2       43.0             855.0  \n",
       "3       22.0            1190.0  \n",
       "4       49.0             788.0  \n",
       "\n",
       "[5 rows x 49 columns]"
      ],
      "text/html": [
       "<div>\n",
       "<style scoped>\n",
       "    .dataframe tbody tr th:only-of-type {\n",
       "        vertical-align: middle;\n",
       "    }\n",
       "\n",
       "    .dataframe tbody tr th {\n",
       "        vertical-align: top;\n",
       "    }\n",
       "\n",
       "    .dataframe thead th {\n",
       "        text-align: right;\n",
       "    }\n",
       "</style>\n",
       "<table border=\"1\" class=\"dataframe\">\n",
       "  <thead>\n",
       "    <tr style=\"text-align: right;\">\n",
       "      <th></th>\n",
       "      <th>tourney_id</th>\n",
       "      <th>tourney_name</th>\n",
       "      <th>surface</th>\n",
       "      <th>draw_size</th>\n",
       "      <th>tourney_level</th>\n",
       "      <th>tourney_date</th>\n",
       "      <th>match_num</th>\n",
       "      <th>winner_id</th>\n",
       "      <th>winner_seed</th>\n",
       "      <th>winner_entry</th>\n",
       "      <th>...</th>\n",
       "      <th>l_1stIn</th>\n",
       "      <th>l_1stWon</th>\n",
       "      <th>l_2ndWon</th>\n",
       "      <th>l_SvGms</th>\n",
       "      <th>l_bpSaved</th>\n",
       "      <th>l_bpFaced</th>\n",
       "      <th>winner_rank</th>\n",
       "      <th>winner_rank_points</th>\n",
       "      <th>loser_rank</th>\n",
       "      <th>loser_rank_points</th>\n",
       "    </tr>\n",
       "  </thead>\n",
       "  <tbody>\n",
       "    <tr>\n",
       "      <th>0</th>\n",
       "      <td>2003-1536</td>\n",
       "      <td>Madrid Masters</td>\n",
       "      <td>Hard</td>\n",
       "      <td>48</td>\n",
       "      <td>M</td>\n",
       "      <td>20031013</td>\n",
       "      <td>1</td>\n",
       "      <td>101965</td>\n",
       "      <td>NaN</td>\n",
       "      <td>NaN</td>\n",
       "      <td>...</td>\n",
       "      <td>NaN</td>\n",
       "      <td>NaN</td>\n",
       "      <td>NaN</td>\n",
       "      <td>NaN</td>\n",
       "      <td>NaN</td>\n",
       "      <td>NaN</td>\n",
       "      <td>28.0</td>\n",
       "      <td>1090.0</td>\n",
       "      <td>42.0</td>\n",
       "      <td>865.0</td>\n",
       "    </tr>\n",
       "    <tr>\n",
       "      <th>1</th>\n",
       "      <td>2003-1536</td>\n",
       "      <td>Madrid Masters</td>\n",
       "      <td>Hard</td>\n",
       "      <td>48</td>\n",
       "      <td>M</td>\n",
       "      <td>20031013</td>\n",
       "      <td>2</td>\n",
       "      <td>102358</td>\n",
       "      <td>NaN</td>\n",
       "      <td>Q</td>\n",
       "      <td>...</td>\n",
       "      <td>NaN</td>\n",
       "      <td>NaN</td>\n",
       "      <td>NaN</td>\n",
       "      <td>NaN</td>\n",
       "      <td>NaN</td>\n",
       "      <td>NaN</td>\n",
       "      <td>146.0</td>\n",
       "      <td>258.0</td>\n",
       "      <td>40.0</td>\n",
       "      <td>950.0</td>\n",
       "    </tr>\n",
       "    <tr>\n",
       "      <th>2</th>\n",
       "      <td>2003-1536</td>\n",
       "      <td>Madrid Masters</td>\n",
       "      <td>Hard</td>\n",
       "      <td>48</td>\n",
       "      <td>M</td>\n",
       "      <td>20031013</td>\n",
       "      <td>3</td>\n",
       "      <td>102998</td>\n",
       "      <td>NaN</td>\n",
       "      <td>Q</td>\n",
       "      <td>...</td>\n",
       "      <td>NaN</td>\n",
       "      <td>NaN</td>\n",
       "      <td>NaN</td>\n",
       "      <td>NaN</td>\n",
       "      <td>NaN</td>\n",
       "      <td>NaN</td>\n",
       "      <td>57.0</td>\n",
       "      <td>660.0</td>\n",
       "      <td>43.0</td>\n",
       "      <td>855.0</td>\n",
       "    </tr>\n",
       "    <tr>\n",
       "      <th>3</th>\n",
       "      <td>2003-1536</td>\n",
       "      <td>Madrid Masters</td>\n",
       "      <td>Hard</td>\n",
       "      <td>48</td>\n",
       "      <td>M</td>\n",
       "      <td>20031013</td>\n",
       "      <td>4</td>\n",
       "      <td>102610</td>\n",
       "      <td>NaN</td>\n",
       "      <td>NaN</td>\n",
       "      <td>...</td>\n",
       "      <td>NaN</td>\n",
       "      <td>NaN</td>\n",
       "      <td>NaN</td>\n",
       "      <td>NaN</td>\n",
       "      <td>NaN</td>\n",
       "      <td>NaN</td>\n",
       "      <td>23.0</td>\n",
       "      <td>1170.0</td>\n",
       "      <td>22.0</td>\n",
       "      <td>1190.0</td>\n",
       "    </tr>\n",
       "    <tr>\n",
       "      <th>4</th>\n",
       "      <td>2003-1536</td>\n",
       "      <td>Madrid Masters</td>\n",
       "      <td>Hard</td>\n",
       "      <td>48</td>\n",
       "      <td>M</td>\n",
       "      <td>20031013</td>\n",
       "      <td>5</td>\n",
       "      <td>102374</td>\n",
       "      <td>NaN</td>\n",
       "      <td>WC</td>\n",
       "      <td>...</td>\n",
       "      <td>NaN</td>\n",
       "      <td>NaN</td>\n",
       "      <td>NaN</td>\n",
       "      <td>NaN</td>\n",
       "      <td>NaN</td>\n",
       "      <td>NaN</td>\n",
       "      <td>127.0</td>\n",
       "      <td>290.0</td>\n",
       "      <td>49.0</td>\n",
       "      <td>788.0</td>\n",
       "    </tr>\n",
       "  </tbody>\n",
       "</table>\n",
       "<p>5 rows × 49 columns</p>\n",
       "</div>"
      ]
     },
     "execution_count": 25,
     "metadata": {},
     "output_type": "execute_result"
    }
   ],
   "execution_count": 25
  },
  {
   "cell_type": "code",
   "id": "24f2b293",
   "metadata": {
    "ExecuteTime": {
     "end_time": "2024-07-01T17:38:52.469776Z",
     "start_time": "2024-07-01T17:38:52.466248Z"
    }
   },
   "source": [
    "match_data_2003['w_1stIn'].mean()"
   ],
   "outputs": [
    {
     "data": {
      "text/plain": [
       "46.21680313278747"
      ]
     },
     "execution_count": 26,
     "metadata": {},
     "output_type": "execute_result"
    }
   ],
   "execution_count": 26
  },
  {
   "cell_type": "code",
   "id": "51db7503",
   "metadata": {
    "ExecuteTime": {
     "end_time": "2024-07-01T17:38:53.146229Z",
     "start_time": "2024-07-01T17:38:53.142360Z"
    }
   },
   "source": [
    "match_data_2023['w_1stIn'].mean()"
   ],
   "outputs": [
    {
     "data": {
      "text/plain": [
       "50.10088809946714"
      ]
     },
     "execution_count": 27,
     "metadata": {},
     "output_type": "execute_result"
    }
   ],
   "execution_count": 27
  },
  {
   "cell_type": "code",
   "id": "e15b37ba",
   "metadata": {
    "ExecuteTime": {
     "end_time": "2024-07-01T17:38:56.137570Z",
     "start_time": "2024-07-01T17:38:56.135835Z"
    }
   },
   "source": [],
   "outputs": [],
   "execution_count": 27
  },
  {
   "cell_type": "code",
   "id": "6fd1a070",
   "metadata": {
    "ExecuteTime": {
     "end_time": "2024-07-01T17:38:56.677293Z",
     "start_time": "2024-07-01T17:38:56.675592Z"
    }
   },
   "source": [],
   "outputs": [],
   "execution_count": 27
  },
  {
   "cell_type": "code",
   "id": "1e10d4c7",
   "metadata": {
    "ExecuteTime": {
     "end_time": "2024-07-01T17:38:57.126270Z",
     "start_time": "2024-07-01T17:38:57.124221Z"
    }
   },
   "source": [],
   "outputs": [],
   "execution_count": 27
  },
  {
   "cell_type": "code",
   "id": "f1e4b322",
   "metadata": {
    "ExecuteTime": {
     "end_time": "2024-07-01T17:38:57.261555Z",
     "start_time": "2024-07-01T17:38:57.259843Z"
    }
   },
   "source": [],
   "outputs": [],
   "execution_count": 27
  },
  {
   "cell_type": "code",
   "id": "7decd5d2",
   "metadata": {
    "ExecuteTime": {
     "end_time": "2024-07-01T17:38:57.424451Z",
     "start_time": "2024-07-01T17:38:57.422252Z"
    }
   },
   "source": [],
   "outputs": [],
   "execution_count": 27
  },
  {
   "cell_type": "code",
   "execution_count": null,
   "id": "5f3110ee",
   "metadata": {},
   "outputs": [],
   "source": []
  }
 ],
 "metadata": {
  "kernelspec": {
   "display_name": "Python 3 (ipykernel)",
   "language": "python",
   "name": "python3"
  },
  "language_info": {
   "codemirror_mode": {
    "name": "ipython",
    "version": 3
   },
   "file_extension": ".py",
   "mimetype": "text/x-python",
   "name": "python",
   "nbconvert_exporter": "python",
   "pygments_lexer": "ipython3",
   "version": "3.11.5"
  }
 },
 "nbformat": 4,
 "nbformat_minor": 5
}
